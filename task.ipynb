{
 "cells": [
  {
   "cell_type": "markdown",
   "metadata": {},
   "source": [
    "# Jetbrains AI Code Completion Internship task"
   ]
  },
  {
   "cell_type": "markdown",
   "metadata": {},
   "source": [
    "### Setup\n",
    "Installing necessary libraries"
   ]
  },
  {
   "cell_type": "code",
   "execution_count": 152,
   "metadata": {},
   "outputs": [
    {
     "name": "stdout",
     "output_type": "stream",
     "text": [
      "Requirement already satisfied: q in c:\\users\\szymon\\documents\\python_program\\jetbrains\\venv\\lib\\site-packages (2.7)\n",
      "Requirement already satisfied: transformers in c:\\users\\szymon\\documents\\python_program\\jetbrains\\venv\\lib\\site-packages (4.46.1)\n",
      "Requirement already satisfied: filelock in c:\\users\\szymon\\documents\\python_program\\jetbrains\\venv\\lib\\site-packages (from transformers) (3.16.1)\n",
      "Requirement already satisfied: huggingface-hub<1.0,>=0.23.2 in c:\\users\\szymon\\documents\\python_program\\jetbrains\\venv\\lib\\site-packages (from transformers) (0.26.2)\n",
      "Requirement already satisfied: numpy>=1.17 in c:\\users\\szymon\\documents\\python_program\\jetbrains\\venv\\lib\\site-packages (from transformers) (2.1.3)\n",
      "Requirement already satisfied: packaging>=20.0 in c:\\users\\szymon\\documents\\python_program\\jetbrains\\venv\\lib\\site-packages (from transformers) (24.1)\n",
      "Requirement already satisfied: pyyaml>=5.1 in c:\\users\\szymon\\documents\\python_program\\jetbrains\\venv\\lib\\site-packages (from transformers) (6.0.2)\n",
      "Requirement already satisfied: regex!=2019.12.17 in c:\\users\\szymon\\documents\\python_program\\jetbrains\\venv\\lib\\site-packages (from transformers) (2024.9.11)\n",
      "Requirement already satisfied: requests in c:\\users\\szymon\\documents\\python_program\\jetbrains\\venv\\lib\\site-packages (from transformers) (2.32.3)\n",
      "Requirement already satisfied: safetensors>=0.4.1 in c:\\users\\szymon\\documents\\python_program\\jetbrains\\venv\\lib\\site-packages (from transformers) (0.4.5)\n",
      "Requirement already satisfied: tokenizers<0.21,>=0.20 in c:\\users\\szymon\\documents\\python_program\\jetbrains\\venv\\lib\\site-packages (from transformers) (0.20.1)\n",
      "Requirement already satisfied: tqdm>=4.27 in c:\\users\\szymon\\documents\\python_program\\jetbrains\\venv\\lib\\site-packages (from transformers) (4.66.6)\n",
      "Requirement already satisfied: fsspec>=2023.5.0 in c:\\users\\szymon\\documents\\python_program\\jetbrains\\venv\\lib\\site-packages (from huggingface-hub<1.0,>=0.23.2->transformers) (2024.10.0)\n",
      "Requirement already satisfied: typing-extensions>=3.7.4.3 in c:\\users\\szymon\\documents\\python_program\\jetbrains\\venv\\lib\\site-packages (from huggingface-hub<1.0,>=0.23.2->transformers) (4.12.2)\n",
      "Requirement already satisfied: colorama in c:\\users\\szymon\\documents\\python_program\\jetbrains\\venv\\lib\\site-packages (from tqdm>=4.27->transformers) (0.4.6)\n",
      "Requirement already satisfied: charset-normalizer<4,>=2 in c:\\users\\szymon\\documents\\python_program\\jetbrains\\venv\\lib\\site-packages (from requests->transformers) (3.4.0)\n",
      "Requirement already satisfied: idna<4,>=2.5 in c:\\users\\szymon\\documents\\python_program\\jetbrains\\venv\\lib\\site-packages (from requests->transformers) (3.10)\n",
      "Requirement already satisfied: urllib3<3,>=1.21.1 in c:\\users\\szymon\\documents\\python_program\\jetbrains\\venv\\lib\\site-packages (from requests->transformers) (2.2.3)\n",
      "Requirement already satisfied: certifi>=2017.4.17 in c:\\users\\szymon\\documents\\python_program\\jetbrains\\venv\\lib\\site-packages (from requests->transformers) (2024.8.30)\n"
     ]
    },
    {
     "name": "stderr",
     "output_type": "stream",
     "text": [
      "\n",
      "[notice] A new release of pip is available: 23.2.1 -> 24.3.1\n",
      "[notice] To update, run: python.exe -m pip install --upgrade pip\n"
     ]
    },
    {
     "name": "stdout",
     "output_type": "stream",
     "text": [
      "Requirement already satisfied: q in c:\\users\\szymon\\documents\\python_program\\jetbrains\\venv\\lib\\site-packages (2.7)\n",
      "Requirement already satisfied: torch in c:\\users\\szymon\\documents\\python_program\\jetbrains\\venv\\lib\\site-packages (2.5.1)\n",
      "Requirement already satisfied: torchvision in c:\\users\\szymon\\documents\\python_program\\jetbrains\\venv\\lib\\site-packages (0.20.1)\n",
      "Requirement already satisfied: torchaudio in c:\\users\\szymon\\documents\\python_program\\jetbrains\\venv\\lib\\site-packages (2.5.1)\n",
      "Requirement already satisfied: filelock in c:\\users\\szymon\\documents\\python_program\\jetbrains\\venv\\lib\\site-packages (from torch) (3.16.1)\n",
      "Requirement already satisfied: typing-extensions>=4.8.0 in c:\\users\\szymon\\documents\\python_program\\jetbrains\\venv\\lib\\site-packages (from torch) (4.12.2)\n",
      "Requirement already satisfied: networkx in c:\\users\\szymon\\documents\\python_program\\jetbrains\\venv\\lib\\site-packages (from torch) (3.4.2)\n",
      "Requirement already satisfied: jinja2 in c:\\users\\szymon\\documents\\python_program\\jetbrains\\venv\\lib\\site-packages (from torch) (3.1.4)\n",
      "Requirement already satisfied: fsspec in c:\\users\\szymon\\documents\\python_program\\jetbrains\\venv\\lib\\site-packages (from torch) (2024.10.0)\n",
      "Requirement already satisfied: setuptools in c:\\users\\szymon\\documents\\python_program\\jetbrains\\venv\\lib\\site-packages (from torch) (75.3.0)\n",
      "Requirement already satisfied: sympy==1.13.1 in c:\\users\\szymon\\documents\\python_program\\jetbrains\\venv\\lib\\site-packages (from torch) (1.13.1)\n",
      "Requirement already satisfied: mpmath<1.4,>=1.1.0 in c:\\users\\szymon\\documents\\python_program\\jetbrains\\venv\\lib\\site-packages (from sympy==1.13.1->torch) (1.3.0)\n",
      "Requirement already satisfied: numpy in c:\\users\\szymon\\documents\\python_program\\jetbrains\\venv\\lib\\site-packages (from torchvision) (2.1.3)\n",
      "Requirement already satisfied: pillow!=8.3.*,>=5.3.0 in c:\\users\\szymon\\documents\\python_program\\jetbrains\\venv\\lib\\site-packages (from torchvision) (11.0.0)\n",
      "Requirement already satisfied: MarkupSafe>=2.0 in c:\\users\\szymon\\documents\\python_program\\jetbrains\\venv\\lib\\site-packages (from jinja2->torch) (3.0.2)\n"
     ]
    },
    {
     "name": "stderr",
     "output_type": "stream",
     "text": [
      "\n",
      "[notice] A new release of pip is available: 23.2.1 -> 24.3.1\n",
      "[notice] To update, run: python.exe -m pip install --upgrade pip\n"
     ]
    },
    {
     "name": "stdout",
     "output_type": "stream",
     "text": [
      "Requirement already satisfied: q in c:\\users\\szymon\\documents\\python_program\\jetbrains\\venv\\lib\\site-packages (2.7)\n",
      "Requirement already satisfied: editdistance in c:\\users\\szymon\\documents\\python_program\\jetbrains\\venv\\lib\\site-packages (0.8.1)\n"
     ]
    },
    {
     "name": "stderr",
     "output_type": "stream",
     "text": [
      "\n",
      "[notice] A new release of pip is available: 23.2.1 -> 24.3.1\n",
      "[notice] To update, run: python.exe -m pip install --upgrade pip\n"
     ]
    },
    {
     "name": "stdout",
     "output_type": "stream",
     "text": [
      "Requirement already satisfied: q in c:\\users\\szymon\\documents\\python_program\\jetbrains\\venv\\lib\\site-packages (2.7)\n",
      "Requirement already satisfied: rouge_score in c:\\users\\szymon\\documents\\python_program\\jetbrains\\venv\\lib\\site-packages (0.1.2)\n",
      "Requirement already satisfied: absl-py in c:\\users\\szymon\\documents\\python_program\\jetbrains\\venv\\lib\\site-packages (from rouge_score) (2.1.0)\n",
      "Requirement already satisfied: nltk in c:\\users\\szymon\\documents\\python_program\\jetbrains\\venv\\lib\\site-packages (from rouge_score) (3.9.1)\n",
      "Requirement already satisfied: numpy in c:\\users\\szymon\\documents\\python_program\\jetbrains\\venv\\lib\\site-packages (from rouge_score) (2.1.3)\n",
      "Requirement already satisfied: six>=1.14.0 in c:\\users\\szymon\\documents\\python_program\\jetbrains\\venv\\lib\\site-packages (from rouge_score) (1.16.0)\n",
      "Requirement already satisfied: click in c:\\users\\szymon\\documents\\python_program\\jetbrains\\venv\\lib\\site-packages (from nltk->rouge_score) (8.1.7)\n",
      "Requirement already satisfied: joblib in c:\\users\\szymon\\documents\\python_program\\jetbrains\\venv\\lib\\site-packages (from nltk->rouge_score) (1.4.2)\n",
      "Requirement already satisfied: regex>=2021.8.3 in c:\\users\\szymon\\documents\\python_program\\jetbrains\\venv\\lib\\site-packages (from nltk->rouge_score) (2024.9.11)\n",
      "Requirement already satisfied: tqdm in c:\\users\\szymon\\documents\\python_program\\jetbrains\\venv\\lib\\site-packages (from nltk->rouge_score) (4.66.6)\n",
      "Requirement already satisfied: colorama in c:\\users\\szymon\\documents\\python_program\\jetbrains\\venv\\lib\\site-packages (from click->nltk->rouge_score) (0.4.6)\n"
     ]
    },
    {
     "name": "stderr",
     "output_type": "stream",
     "text": [
      "\n",
      "[notice] A new release of pip is available: 23.2.1 -> 24.3.1\n",
      "[notice] To update, run: python.exe -m pip install --upgrade pip\n"
     ]
    },
    {
     "name": "stdout",
     "output_type": "stream",
     "text": [
      "Requirement already satisfied: q in c:\\users\\szymon\\documents\\python_program\\jetbrains\\venv\\lib\\site-packages (2.7)\n",
      "Requirement already satisfied: sacrebleu in c:\\users\\szymon\\documents\\python_program\\jetbrains\\venv\\lib\\site-packages (2.4.3)\n",
      "Requirement already satisfied: portalocker in c:\\users\\szymon\\documents\\python_program\\jetbrains\\venv\\lib\\site-packages (from sacrebleu) (2.10.1)\n",
      "Requirement already satisfied: regex in c:\\users\\szymon\\documents\\python_program\\jetbrains\\venv\\lib\\site-packages (from sacrebleu) (2024.9.11)\n",
      "Requirement already satisfied: tabulate>=0.8.9 in c:\\users\\szymon\\documents\\python_program\\jetbrains\\venv\\lib\\site-packages (from sacrebleu) (0.9.0)\n",
      "Requirement already satisfied: numpy>=1.17 in c:\\users\\szymon\\documents\\python_program\\jetbrains\\venv\\lib\\site-packages (from sacrebleu) (2.1.3)\n",
      "Requirement already satisfied: colorama in c:\\users\\szymon\\documents\\python_program\\jetbrains\\venv\\lib\\site-packages (from sacrebleu) (0.4.6)\n",
      "Requirement already satisfied: lxml in c:\\users\\szymon\\documents\\python_program\\jetbrains\\venv\\lib\\site-packages (from sacrebleu) (5.3.0)\n",
      "Requirement already satisfied: pywin32>=226 in c:\\users\\szymon\\documents\\python_program\\jetbrains\\venv\\lib\\site-packages (from portalocker->sacrebleu) (308)\n"
     ]
    },
    {
     "name": "stderr",
     "output_type": "stream",
     "text": [
      "\n",
      "[notice] A new release of pip is available: 23.2.1 -> 24.3.1\n",
      "[notice] To update, run: python.exe -m pip install --upgrade pip\n"
     ]
    },
    {
     "name": "stdout",
     "output_type": "stream",
     "text": [
      "Requirement already satisfied: nltk in c:\\users\\szymon\\documents\\python_program\\jetbrains\\venv\\lib\\site-packages (3.9.1)\n",
      "Requirement already satisfied: click in c:\\users\\szymon\\documents\\python_program\\jetbrains\\venv\\lib\\site-packages (from nltk) (8.1.7)\n",
      "Requirement already satisfied: joblib in c:\\users\\szymon\\documents\\python_program\\jetbrains\\venv\\lib\\site-packages (from nltk) (1.4.2)\n",
      "Requirement already satisfied: regex>=2021.8.3 in c:\\users\\szymon\\documents\\python_program\\jetbrains\\venv\\lib\\site-packages (from nltk) (2024.9.11)\n",
      "Requirement already satisfied: tqdm in c:\\users\\szymon\\documents\\python_program\\jetbrains\\venv\\lib\\site-packages (from nltk) (4.66.6)\n",
      "Requirement already satisfied: colorama in c:\\users\\szymon\\documents\\python_program\\jetbrains\\venv\\lib\\site-packages (from click->nltk) (0.4.6)\n"
     ]
    },
    {
     "name": "stderr",
     "output_type": "stream",
     "text": [
      "\n",
      "[notice] A new release of pip is available: 23.2.1 -> 24.3.1\n",
      "[notice] To update, run: python.exe -m pip install --upgrade pip\n"
     ]
    },
    {
     "name": "stdout",
     "output_type": "stream",
     "text": [
      "Requirement already satisfied: pandas in c:\\users\\szymon\\documents\\python_program\\jetbrains\\venv\\lib\\site-packages (2.2.3)\n",
      "Requirement already satisfied: numpy>=1.26.0 in c:\\users\\szymon\\documents\\python_program\\jetbrains\\venv\\lib\\site-packages (from pandas) (2.1.3)\n",
      "Requirement already satisfied: python-dateutil>=2.8.2 in c:\\users\\szymon\\documents\\python_program\\jetbrains\\venv\\lib\\site-packages (from pandas) (2.9.0.post0)\n",
      "Requirement already satisfied: pytz>=2020.1 in c:\\users\\szymon\\documents\\python_program\\jetbrains\\venv\\lib\\site-packages (from pandas) (2024.2)\n",
      "Requirement already satisfied: tzdata>=2022.7 in c:\\users\\szymon\\documents\\python_program\\jetbrains\\venv\\lib\\site-packages (from pandas) (2024.2)\n",
      "Requirement already satisfied: six>=1.5 in c:\\users\\szymon\\documents\\python_program\\jetbrains\\venv\\lib\\site-packages (from python-dateutil>=2.8.2->pandas) (1.16.0)\n"
     ]
    },
    {
     "name": "stderr",
     "output_type": "stream",
     "text": [
      "\n",
      "[notice] A new release of pip is available: 23.2.1 -> 24.3.1\n",
      "[notice] To update, run: python.exe -m pip install --upgrade pip\n"
     ]
    }
   ],
   "source": [
    "import os\n",
    "import sys\n",
    "!{sys.executable} -m pip install q transformers\n",
    "!{sys.executable} -m pip install q torch torchvision torchaudio\n",
    "!{sys.executable} -m pip install q editdistance\n",
    "!{sys.executable} -m pip install q rouge_score\n",
    "!{sys.executable} -m pip install q sacrebleu\n",
    "!{sys.executable} -m pip install nltk\n",
    "!{sys.executable} -m pip install pandas"
   ]
  },
  {
   "cell_type": "markdown",
   "metadata": {},
   "source": [
    "### Preparing dataset\n",
    "I had two main requirements in mind: the programming language should be popular, and the code should avoid excessive use of external libraries to ensure that the used model is capable of understanding the examples. For this reason, I selected some files from my first-year project for Object-Oriented Programming class. These files are relatively small, allowing the entire file to serve as context for each example, with the model's goal being to predict a single line."
   ]
  },
  {
   "cell_type": "code",
   "execution_count": 153,
   "metadata": {},
   "outputs": [],
   "source": [
    "def generate_completion_examples(file_path, num_examples=10):\n",
    "    with open(file_path, 'r') as file:\n",
    "        lines = file.readlines()\n",
    "\n",
    "    examples = []\n",
    "    length = len(lines)\n",
    "    interval = length // num_examples\n",
    "\n",
    "    for i in range(num_examples):\n",
    "        pred = i * interval\n",
    "        prefix = ''.join(lines[0:pred])\n",
    "        middle = ''.join(lines[pred])\n",
    "        suffix = ''.join(lines[pred+1::])\n",
    "        \n",
    "        examples.append({\n",
    "            \"prefix\": prefix,\n",
    "            \"middle\": middle,\n",
    "            \"suffix\": suffix\n",
    "        })\n",
    "\n",
    "    return examples"
   ]
  },
  {
   "cell_type": "code",
   "execution_count": 154,
   "metadata": {},
   "outputs": [
    {
     "name": "stdout",
     "output_type": "stream",
     "text": [
      "Processing file: Diagonal.java\n",
      "Processing file: DoubleMatrix.java\n",
      "Processing file: Full.java\n",
      "All examples prepared\n"
     ]
    }
   ],
   "source": [
    "examples = []\n",
    "directory = 'examples'\n",
    "\n",
    "for filename in os.listdir(directory):\n",
    "    file_path = os.path.join(directory, filename)\n",
    "    \n",
    "    if os.path.isfile(file_path) and filename.endswith('.java'):\n",
    "        print(f\"Processing file: {filename}\")\n",
    "        \n",
    "        examples += generate_completion_examples(file_path)\n",
    "\n",
    "print(\"All examples prepared\")"
   ]
  },
  {
   "cell_type": "markdown",
   "metadata": {},
   "source": [
    "### Running experiments\n",
    "\n",
    "A model suggested in the task content, that is tiny_starcoder proved to be capable enough to draw meaningful conclusions, so I opted against changing it.\n",
    "\n",
    "In addition to the exact match metric and chrf score, I also included edit similarity that I learned about in Computational Genomics classes. This metric is actually pretty relevant to code generation, as minimizing edit distance can directly reduce amount of correction a programmer using our tool would need to make.\n",
    "\n",
    "Another metric I included is Rouge-L (Longest Common Subsequence metric). This metric proved useful, as during tests I noticed that model often generated fundamentally right predictions but added some unnecessary stuff, like extra whitespace or closing brackets. This metric recognises such cases pretty well."
   ]
  },
  {
   "cell_type": "code",
   "execution_count": 155,
   "metadata": {},
   "outputs": [
    {
     "name": "stdout",
     "output_type": "stream",
     "text": [
      "30\n",
      "Dataset saved\n"
     ]
    }
   ],
   "source": [
    "import pandas as pd\n",
    "from transformers import AutoModelForCausalLM, AutoTokenizer\n",
    "from rouge_score import rouge_scorer\n",
    "from nltk.translate.chrf_score import sentence_chrf\n",
    "import editdistance\n",
    "\n",
    "checkpoint = \"bigcode/tiny_starcoder_py\"\n",
    "device = \"cpu\"\n",
    "tokenizer = AutoTokenizer.from_pretrained(checkpoint)\n",
    "model = AutoModelForCausalLM.from_pretrained(checkpoint)\n",
    "line_breaker = \"========\\n\"\n",
    "\n",
    "scorer = rouge_scorer.RougeScorer(['rougeL'], use_stemmer=True)\n",
    "\n",
    "completions = []\n",
    "\n",
    "for example in examples:\n",
    "    input_text = '<fim_prefix>' + example['prefix'] + '<fim_suffix>' + example['suffix'] + '<fim_middle>'\n",
    "    inputs = tokenizer(input_text, return_tensors=\"pt\").to(device)\n",
    "\n",
    "    output = model.generate(\n",
    "        inputs.input_ids,\n",
    "        attention_mask=inputs.attention_mask,\n",
    "        max_new_tokens=10,\n",
    "        pad_token_id=tokenizer.eos_token_id\n",
    "    )\n",
    "    \n",
    "    completion_text = tokenizer.decode(output[0], skip_special_tokens=False)\n",
    "    completion_text = completion_text.replace('<|endoftext|>', '').split('<fim_middle>')[1]\n",
    "\n",
    "    em = int(example[\"middle\"] == completion_text)\n",
    "\n",
    "    edit = editdistance.eval(completion_text, example[\"middle\"])\n",
    "    max_len = max(len(completion_text), len(example[\"middle\"]))\n",
    "    edit = 1 - (edit / max_len) \n",
    "\n",
    "    chrf_score = sentence_chrf(example[\"middle\"], completion_text)\n",
    "    rouge_l = scorer.score(example['middle'], completion_text)['rougeL'].fmeasure\n",
    "    \n",
    "    completions.append({\n",
    "        \"Prefix\": example[\"prefix\"],\n",
    "        \"Suffix\": example[\"suffix\"],\n",
    "        \"Expected Middle\": example[\"middle\"],\n",
    "        \"Model Completion\": completion_text,\n",
    "        \"Exact Match\": em,\n",
    "        \"Edit Similarity\": edit,\n",
    "        \"CHRF Score\": chrf_score,\n",
    "        \"ROUGE-L\": rouge_l\n",
    "    })\n",
    "\n",
    "print(len(completions))\n",
    "df = pd.DataFrame(completions)\n",
    "\n",
    "df.to_csv(\"completions.csv\", index=False)\n",
    "\n",
    "print(\"Dataset saved\")\n"
   ]
  },
  {
   "cell_type": "markdown",
   "metadata": {},
   "source": [
    "### Drawing conclusions\n",
    "I used Pearson correlation coefficient to assess the correlation between human judgement and the model's automated metrics. Edit similarity, CHRF score and ROUGE-L are all closely matched, while exact matching is obviously not really precise as it doesn't differentiate between bad and partially good predictions. That being said, don't believe our dataset is large enough to confidently say which of the proposed metrics captures human judgement the best."
   ]
  },
  {
   "cell_type": "code",
   "execution_count": 163,
   "metadata": {},
   "outputs": [
    {
     "name": "stdout",
     "output_type": "stream",
     "text": [
      "Correlation with My Score:\n",
      "Exact Match        0.309423\n",
      "Edit Similarity    0.867961\n",
      "CHRF Score         0.876278\n",
      "ROUGE-L            0.931328\n",
      "Name: My Score, dtype: float64\n"
     ]
    }
   ],
   "source": [
    "df = pd.read_csv(\"completions_labeled.csv\")\n",
    "numeric_df = df[['Exact Match', 'Edit Similarity', 'CHRF Score', 'ROUGE-L', 'My Score']]\n",
    "\n",
    "correlations = numeric_df.corr()['My Score'][['Exact Match', 'Edit Similarity', 'CHRF Score', 'ROUGE-L']]\n",
    "\n",
    "print(\"Correlation with My Score:\")\n",
    "print(correlations)\n"
   ]
  }
 ],
 "metadata": {
  "kernelspec": {
   "display_name": "venv",
   "language": "python",
   "name": "python3"
  },
  "language_info": {
   "codemirror_mode": {
    "name": "ipython",
    "version": 3
   },
   "file_extension": ".py",
   "mimetype": "text/x-python",
   "name": "python",
   "nbconvert_exporter": "python",
   "pygments_lexer": "ipython3",
   "version": "3.12.1"
  }
 },
 "nbformat": 4,
 "nbformat_minor": 2
}
